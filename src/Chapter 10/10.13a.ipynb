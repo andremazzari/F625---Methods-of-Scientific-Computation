{
 "cells": [
  {
   "cell_type": "code",
   "execution_count": null,
   "metadata": {},
   "outputs": [],
   "source": [
    "from vpython import rate,color,graph,gdots\n",
    "from numpy import zeros\n",
    "from random import randrange\n",
    "from time import time\n",
    "\n",
    "#função que realiza a mudança de posiçao da particula\n",
    "def passo(x,y):\n",
    "    p = randrange(4)\n",
    "    if p==0: #passo para cima\n",
    "        return x, y+1\n",
    "    elif p==1: #passo para direita\n",
    "        return x+1, y\n",
    "    elif p==2: #passo para baixo\n",
    "        return x, y-1\n",
    "    elif p==3: #passo para esquerda\n",
    "        return x-1, y\n",
    "\n",
    "\n",
    "#parametros\n",
    "L = 101 #tamanho do reticulado; obs:deve ser um valor impar\n",
    "x0 = int((L-1)/2) #posicao x\n",
    "y0 = int((L-1)/2) #posicao y\n",
    "\n",
    "#matriz que salva quais posições estao ocupadas:0 desocupada, 1 ocupada\n",
    "pos = zeros([L,L], int)\n",
    "\n",
    "#cria o background da animação e a lista em que as parituclas serão salvas\n",
    "g = graph(width=600, height=600, foreground=color.black, background=color.white, xmin=0, xmax=L-1, ymin=0, ymax=L-1)\n",
    "particulas = []\n",
    "\n",
    "k = 0\n",
    "t0 = time()\n",
    "while pos[x0][y0] != 1:\n",
    "    anchored = 0\n",
    "    x = x0\n",
    "    y = y0\n",
    "    particulas.append(gdots(pos=(x,y), radius = 5))\n",
    "    while anchored==0:\n",
    "       #verifica se esta na parede\n",
    "       if x==0 or y==0 or x==L-1 or y==L-1:\n",
    "           pos[x][y] = 1\n",
    "           anchored = 1\n",
    "       elif pos[x+1][y]==1 or pos[x-1][y]==1 or pos[x][y+1]==1 or pos[x][y-1]==1: #verifica ha particulas na vizinhança\n",
    "           pos[x][y] = 1\n",
    "           anchored = 1\n",
    "       else: #anda mais um passo\n",
    "           rate(100000)\n",
    "           particulas[k].data=[(x,y)]\n",
    "           x, y = passo(x,y)\n",
    "    k += 1\n",
    "\n",
    "print(k)\n",
    "print(time()-t0)"
   ]
  }
 ],
 "metadata": {
  "kernelspec": {
   "display_name": "VPython",
   "language": "python",
   "name": "vpython"
  },
  "language_info": {
   "codemirror_mode": {
    "name": "ipython",
    "version": 3
   },
   "file_extension": ".py",
   "mimetype": "text/x-python",
   "name": "python",
   "nbconvert_exporter": "python",
   "pygments_lexer": "ipython3",
   "version": "3.7.3"
  }
 },
 "nbformat": 4,
 "nbformat_minor": 2
}
